{
 "cells": [
  {
   "cell_type": "code",
   "execution_count": 16,
   "id": "feb59277-3a40-4454-9dbe-081b273bda70",
   "metadata": {},
   "outputs": [],
   "source": [
    "import numpy as np\n",
    "from scipy import stats"
   ]
  },
  {
   "cell_type": "code",
   "execution_count": 17,
   "id": "368fa33e-d354-4978-8567-6d5479aa860e",
   "metadata": {},
   "outputs": [],
   "source": [
    "data = [23, 29, 20, 32, 25, 30, 30, 24, 27, 26]"
   ]
  },
  {
   "cell_type": "code",
   "execution_count": 18,
   "id": "75a53cae-d560-458a-ac0c-3fdc529f6f0e",
   "metadata": {},
   "outputs": [
    {
     "name": "stdout",
     "output_type": "stream",
     "text": [
      "Mean: 26.6\n"
     ]
    }
   ],
   "source": [
    "# Calculate the mean\n",
    "mean = np.mean(data)\n",
    "print(\"Mean:\",mean)"
   ]
  },
  {
   "cell_type": "code",
   "execution_count": 19,
   "id": "0d88bb96-26a7-4df2-bf6a-064dc290600e",
   "metadata": {},
   "outputs": [
    {
     "name": "stdout",
     "output_type": "stream",
     "text": [
      "Median 26.5\n"
     ]
    }
   ],
   "source": [
    "# Calculating the median \n",
    "median = np.median(data)\n",
    "print(\"Median\",median)"
   ]
  },
  {
   "cell_type": "code",
   "execution_count": 21,
   "id": "f8de8cf9-a9f4-414a-82df-003fe3f24809",
   "metadata": {},
   "outputs": [
    {
     "name": "stdout",
     "output_type": "stream",
     "text": [
      "Mode: ModeResult(mode=30, count=2)\n"
     ]
    }
   ],
   "source": [
    "# Calculating the Mode\n",
    "mode_result = stats.mode(data)\n",
    "print(\"Mode:\", mode_result)"
   ]
  },
  {
   "cell_type": "code",
   "execution_count": 23,
   "id": "5a4beb52-18b5-478b-93df-d57be69261b3",
   "metadata": {},
   "outputs": [
    {
     "name": "stdout",
     "output_type": "stream",
     "text": [
      "Std Deviation: 3.717824931626316\n"
     ]
    }
   ],
   "source": [
    "# Calculating the std_ deviation \n",
    "std_np = np.std(data,ddof=1) # ddof = 1 for 1 Sample Deviation\n",
    "print(\"Std Deviation:\",std_np)"
   ]
  },
  {
   "cell_type": "code",
   "execution_count": null,
   "id": "7ebfb6e0-5385-405c-9b0d-e6bd5929f309",
   "metadata": {},
   "outputs": [],
   "source": []
  },
  {
   "cell_type": "code",
   "execution_count": null,
   "id": "f52923c1-f440-41e0-9177-dd2a6c79174b",
   "metadata": {},
   "outputs": [],
   "source": []
  },
  {
   "cell_type": "code",
   "execution_count": null,
   "id": "82b464a9-3cbc-468d-bf69-a0fa930a9be1",
   "metadata": {},
   "outputs": [],
   "source": []
  },
  {
   "cell_type": "code",
   "execution_count": null,
   "id": "dbd98f9a-6002-47d0-b69c-a59f63b36a0d",
   "metadata": {},
   "outputs": [],
   "source": []
  }
 ],
 "metadata": {
  "kernelspec": {
   "display_name": "Python 3 (ipykernel)",
   "language": "python",
   "name": "python3"
  },
  "language_info": {
   "codemirror_mode": {
    "name": "ipython",
    "version": 3
   },
   "file_extension": ".py",
   "mimetype": "text/x-python",
   "name": "python",
   "nbconvert_exporter": "python",
   "pygments_lexer": "ipython3",
   "version": "3.11.7"
  }
 },
 "nbformat": 4,
 "nbformat_minor": 5
}
