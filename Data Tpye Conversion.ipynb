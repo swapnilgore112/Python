{
 "cells": [
  {
   "cell_type": "code",
   "execution_count": 88,
   "id": "a66d3458-f895-47f6-bd30-be8f043ec6fd",
   "metadata": {},
   "outputs": [],
   "source": [
    "from datetime import datetime"
   ]
  },
  {
   "cell_type": "code",
   "execution_count": 89,
   "id": "1217d9bd-5971-4a3d-83b3-1c8a734d2476",
   "metadata": {},
   "outputs": [],
   "source": [
    "data_strings=[ \n",
    "              \"2023-07-16\",\n",
    "              \"16-07-2023\",\n",
    "              \"July 16,2023\",\n",
    "              \"07/16/2023\",\n",
    "              \"2023.07.16\" \n",
    "]"
   ]
  },
  {
   "cell_type": "code",
   "execution_count": 90,
   "id": "d56551ec-a784-495c-80a8-a88c7ef013d6",
   "metadata": {},
   "outputs": [],
   "source": [
    "def convert_strings_to_dates(date_list):\n",
    "    date_formats = [\n",
    "        \"%Y-%m-%d\",\n",
    "        \"%d-%m-%Y\",\n",
    "        \"%B %d, %Y\",\n",
    "        \"%m/%d/%Y\",\n",
    "        \"%Y.%m.%d\"\n",
    "    ]        "
   ]
  },
  {
   "cell_type": "code",
   "execution_count": 94,
   "id": "6a236f3f-ad58-4dcb-b824-bd105c4da9eb",
   "metadata": {},
   "outputs": [
    {
     "ename": "NameError",
     "evalue": "name 'date_formats' is not defined",
     "output_type": "error",
     "traceback": [
      "\u001b[1;31m---------------------------------------------------------------------------\u001b[0m",
      "\u001b[1;31mNameError\u001b[0m                                 Traceback (most recent call last)",
      "Cell \u001b[1;32mIn[94], line 4\u001b[0m\n\u001b[0;32m      1\u001b[0m date_objects \u001b[38;5;241m=\u001b[39m []\n\u001b[0;32m      3\u001b[0m \u001b[38;5;28;01mfor\u001b[39;00m date_str \u001b[38;5;129;01min\u001b[39;00m date_list:\n\u001b[1;32m----> 4\u001b[0m     \u001b[38;5;28;01mfor\u001b[39;00m fmt \u001b[38;5;129;01min\u001b[39;00m date_formats:\n\u001b[0;32m      5\u001b[0m         \u001b[38;5;28;01mtry\u001b[39;00m:\n\u001b[0;32m      6\u001b[0m             date_obj \u001b[38;5;241m=\u001b[39m datetime\u001b[38;5;241m.\u001b[39mstrptime(date_str, fmt)\n",
      "\u001b[1;31mNameError\u001b[0m: name 'date_formats' is not defined"
     ]
    }
   ],
   "source": [
    "date_objects = []\n",
    "\n",
    "for date_str in date_list:\n",
    "    for fmt in date_formats:\n",
    "        try:\n",
    "            date_obj = datetime.strptime(date_str, fmt)\n",
    "            date_objects.append(date_obj)\n",
    "            break\n",
    "        except ValueError:\n",
    "            continue\n",
    "    else:\n",
    "        print(f\"Date format not recognized: {date_str}\")\n",
    "\n",
    "return date_objects"
   ]
  },
  {
   "cell_type": "code",
   "execution_count": 95,
   "id": "7c8bb9c1-96d0-44d5-b521-fe9f45fef7f0",
   "metadata": {},
   "outputs": [
    {
     "name": "stdout",
     "output_type": "stream",
     "text": [
      "[]\n"
     ]
    }
   ],
   "source": [
    "date_objects = convert_strings_to_dates(date_strings)\n",
    "\n",
    "print(data_objects)"
   ]
  },
  {
   "cell_type": "code",
   "execution_count": 96,
   "id": "768641c5-7481-499b-843e-9dd056057b34",
   "metadata": {},
   "outputs": [
    {
     "name": "stdout",
     "output_type": "stream",
     "text": [
      "2024-07-17 12:19:10.613509\n"
     ]
    }
   ],
   "source": [
    "current_date = datetime.now()\n",
    "print(current_date)"
   ]
  },
  {
   "cell_type": "code",
   "execution_count": 99,
   "id": "338b8e93-b70c-40ec-b533-f771c2bbeb7c",
   "metadata": {},
   "outputs": [
    {
     "ename": "TypeError",
     "evalue": "'NoneType' object is not iterable",
     "output_type": "error",
     "traceback": [
      "\u001b[1;31m---------------------------------------------------------------------------\u001b[0m",
      "\u001b[1;31mTypeError\u001b[0m                                 Traceback (most recent call last)",
      "Cell \u001b[1;32mIn[99], line 1\u001b[0m\n\u001b[1;32m----> 1\u001b[0m \u001b[38;5;28;01mfor\u001b[39;00m date \u001b[38;5;129;01min\u001b[39;00m date_objects:\n\u001b[0;32m      2\u001b[0m     difference \u001b[38;5;241m=\u001b[39m current_date\u001b[38;5;241m-\u001b[39mdate\n\u001b[0;32m      3\u001b[0m     \u001b[38;5;28mprint\u001b[39m(\u001b[38;5;124mf\u001b[39m\u001b[38;5;124m\"\u001b[39m\u001b[38;5;124mDays Difference from\u001b[39m\u001b[38;5;132;01m{\u001b[39;00mdate\u001b[38;5;132;01m}\u001b[39;00m\u001b[38;5;124m:\u001b[39m\u001b[38;5;132;01m{\u001b[39;00mdifference\u001b[38;5;241m.\u001b[39mdate\u001b[38;5;132;01m}\u001b[39;00m\u001b[38;5;124m\"\u001b[39m)\n",
      "\u001b[1;31mTypeError\u001b[0m: 'NoneType' object is not iterable"
     ]
    }
   ],
   "source": [
    "for date in date_objects:\n",
    "    difference = current_date-date\n",
    "    print(f\"Days Difference from{date}:{difference.date}\")"
   ]
  },
  {
   "cell_type": "code",
   "execution_count": 98,
   "id": "b85b2415-57d1-4e28-b3ab-07ca26789ad9",
   "metadata": {},
   "outputs": [
    {
     "ename": "TypeError",
     "evalue": "'NoneType' object is not iterable",
     "output_type": "error",
     "traceback": [
      "\u001b[1;31m---------------------------------------------------------------------------\u001b[0m",
      "\u001b[1;31mTypeError\u001b[0m                                 Traceback (most recent call last)",
      "Cell \u001b[1;32mIn[98], line 1\u001b[0m\n\u001b[1;32m----> 1\u001b[0m \u001b[38;5;28;01mfor\u001b[39;00m date \u001b[38;5;129;01min\u001b[39;00m date_objects:\n\u001b[0;32m      2\u001b[0m     formatted_date \u001b[38;5;241m=\u001b[39m date\u001b[38;5;241m.\u001b[39mstrftime(\u001b[38;5;124m\"\u001b[39m\u001b[38;5;124m%\u001b[39m\u001b[38;5;124mA, \u001b[39m\u001b[38;5;124m%\u001b[39m\u001b[38;5;124mB \u001b[39m\u001b[38;5;132;01m%d\u001b[39;00m\u001b[38;5;124m, \u001b[39m\u001b[38;5;124m%\u001b[39m\u001b[38;5;124mY\u001b[39m\u001b[38;5;124m\"\u001b[39m)\n\u001b[0;32m      3\u001b[0m     \u001b[38;5;28mprint\u001b[39m(formatted_dates)\n",
      "\u001b[1;31mTypeError\u001b[0m: 'NoneType' object is not iterable"
     ]
    }
   ],
   "source": [
    "for date in date_objects:\n",
    "    formatted_date = date.strftime(\"%A, %B %d, %Y\")\n",
    "    print(formatted_dates)"
   ]
  },
  {
   "cell_type": "code",
   "execution_count": null,
   "id": "f105b8ab-8fba-4cb8-b90b-6426dd8bfcb5",
   "metadata": {},
   "outputs": [],
   "source": []
  },
  {
   "cell_type": "code",
   "execution_count": null,
   "id": "d1f6ae58-6a5c-4bb4-8c07-0dd08eba03ae",
   "metadata": {},
   "outputs": [],
   "source": []
  },
  {
   "cell_type": "code",
   "execution_count": null,
   "id": "920b7b2d-74e2-4afe-9dcc-6046b8e4acb4",
   "metadata": {},
   "outputs": [],
   "source": []
  },
  {
   "cell_type": "code",
   "execution_count": null,
   "id": "d670de55-2381-4ee2-ac7e-06ad8fb0c89b",
   "metadata": {},
   "outputs": [],
   "source": []
  }
 ],
 "metadata": {
  "kernelspec": {
   "display_name": "Python 3 (ipykernel)",
   "language": "python",
   "name": "python3"
  },
  "language_info": {
   "codemirror_mode": {
    "name": "ipython",
    "version": 3
   },
   "file_extension": ".py",
   "mimetype": "text/x-python",
   "name": "python",
   "nbconvert_exporter": "python",
   "pygments_lexer": "ipython3",
   "version": "3.11.7"
  }
 },
 "nbformat": 4,
 "nbformat_minor": 5
}
