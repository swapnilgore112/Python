{
 "cells": [
  {
   "cell_type": "code",
   "execution_count": 1,
   "id": "9b3fe363-44d7-40a1-84e4-cdaef8bc2c9a",
   "metadata": {},
   "outputs": [],
   "source": [
    "import numpy as np"
   ]
  },
  {
   "cell_type": "code",
   "execution_count": 6,
   "id": "954aa9be-b06a-422c-9813-022c4e1d84a7",
   "metadata": {},
   "outputs": [
    {
     "data": {
      "text/plain": [
       "(array([[4, 2, 5],\n",
       "        [2, 6, 2],\n",
       "        [6, 1, 2]]),\n",
       " array([[4, 2, 4],\n",
       "        [2, 6, 2],\n",
       "        [6, 1, 2]]),\n",
       " array([[4, 2, 5],\n",
       "        [2, 5, 2],\n",
       "        [6, 1, 2]]))"
      ]
     },
     "execution_count": 6,
     "metadata": {},
     "output_type": "execute_result"
    }
   ],
   "source": [
    "A1 = np.array([[4,2,5],[2,6,2],[6,1,2]])\n",
    "A2 = np.array([[4,2,4],[2,6,2],[6,1,2]])\n",
    "A3 = np.array([[4,2,5],[2,5,2],[6,1,2]])\n",
    "\n",
    "A1,A2,A3"
   ]
  },
  {
   "cell_type": "code",
   "execution_count": 23,
   "id": "81a05201-4411-4eb1-a155-764e817a71bc",
   "metadata": {},
   "outputs": [],
   "source": [
    "eigenvalues1, eigenvectors1 = np.linalg.eig(A1)\n",
    "eigenvalues2, eigenvectors2 = np.linalg.eig(A2)\n",
    "eigenvalues3, eigenvectors3 = np.linalg.eig(A3)\n"
   ]
  },
  {
   "cell_type": "code",
   "execution_count": 35,
   "id": "8ae6e8cc-59a3-41b3-9dba-712404727045",
   "metadata": {},
   "outputs": [
    {
     "name": "stdout",
     "output_type": "stream",
     "text": [
      " Eigen Values : [10.0862564   4.45231344 -2.53856984] \n",
      " Eigen Vectors : [[-0.62581291  0.3003003   0.59754478]\n",
      " [-0.56795402 -0.87594531  0.04752115]\n",
      " [-0.53458996  0.3775441  -0.80042612]]\n",
      " Eigen Values : [ 9.70953904  4.23567914 -1.94521818] \n",
      " Eigen Vectors : [[-0.65457471  0.24809842  0.59624933]\n",
      " [-0.50287543 -0.90472019  0.05434002]\n",
      " [-0.56448937  0.34630702 -0.80095811]]\n",
      " Eigen Values : [ 9.84837399  3.68599053 -2.53436452] \n",
      " Eigen Vectors : [[-0.65457471  0.24809842  0.59624933]\n",
      " [-0.50287543 -0.90472019  0.05434002]\n",
      " [-0.56448937  0.34630702 -0.80095811]]\n"
     ]
    }
   ],
   "source": [
    "sorted_indices1 = np.argsort(-eigenvalues1)\n",
    "eigenvalues_sorted1 = eigenvalues1[sorted_indices1]\n",
    "eigenvectors_sorted1 = eigenvectors1[:,sorted_indices1]\n",
    "\n",
    "sorted_indices2 = np.argsort(-eigenvalues2)\n",
    "eigenvalues_sorted2 = eigenvalues2[sorted_indices2]\n",
    "eigenvectors_sorted2 = eigenvectors3[:,sorted_indices2]\n",
    "\n",
    "sorted_indices3 = np.argsort(-eigenvalues3)\n",
    "eigenvalues_sorted3 = eigenvalues3[sorted_indices3]\n",
    "eigenvectors_sorted3 = eigenvectors3[:,sorted_indices3]\n",
    "\n",
    "print(f\" Eigen Values : {eigenvalues_sorted1} \\n Eigen Vectors : {eigenvectors_sorted1}\")\n",
    "print(f\" Eigen Values : {eigenvalues_sorted2} \\n Eigen Vectors : {eigenvectors_sorted2}\")\n",
    "print(f\" Eigen Values : {eigenvalues_sorted3} \\n Eigen Vectors : {eigenvectors_sorted3}\")\n"
   ]
  },
  {
   "cell_type": "code",
   "execution_count": 40,
   "id": "869c843b-5b16-4a68-b872-f6a8923b9493",
   "metadata": {},
   "outputs": [
    {
     "name": "stdout",
     "output_type": "stream",
     "text": [
      "Eigen Values (Sorted) : [10.0862564   4.45231344 -2.53856984]\n",
      "Eigen Vectors (Sorted) : [[-0.62581291  0.3003003   0.59754478]\n",
      " [-0.56795402 -0.87594531  0.04752115]\n",
      " [-0.53458996  0.3775441  -0.80042612]]\n"
     ]
    }
   ],
   "source": [
    "def calculate_eigen(matrix):\n",
    "    eigenvalues, eigenvectors = np.linalg.eig(matrix)\n",
    "    idx = np.argsort(-eigenvalues)\n",
    "    eigenvalues_sort = eigenvalues[idx]\n",
    "    eigenvectors_sort = eigenvectors[:,idx]\n",
    "    return eigenvalues_sort, eigenvectors_sort\n",
    "\n",
    "Q1 = np.array([[4,2,5],\n",
    "               [2,6,2],\n",
    "               [6,1,2]])\n",
    "\n",
    "Q2 = np.array([[4,2,4],\n",
    "               [2,6,2],\n",
    "               [6,1,2]])\n",
    "Q3 = np.array([[4,2,5],\n",
    "               [2,5,2],\n",
    "               [6,1,2]])\n",
    "\n",
    "eigenvalues_sort, eigenvectors_sort = calculate_eigen(Q1)\n",
    "\n",
    "print(f\"Eigen Values (Sorted) :\", eigenvalues_sort)\n",
    "print(f\"Eigen Vectors (Sorted) :\", eigenvectors_sort)"
   ]
  },
  {
   "cell_type": "code",
   "execution_count": 41,
   "id": "c940b531-abca-4521-82bf-94d01430b550",
   "metadata": {},
   "outputs": [
    {
     "name": "stdout",
     "output_type": "stream",
     "text": [
      "Eigen Values (Sorted) : [ 9.70953904  4.23567914 -1.94521818]\n",
      "Eigen Vectors (Sorted) : [[-0.58779736  0.30479966  0.53902619]\n",
      " [-0.60592357 -0.84456255  0.07548528]\n",
      " [-0.53605121  0.44024001 -0.83889972]]\n"
     ]
    }
   ],
   "source": [
    "eigenvalues_sort, eigenvectors_sort = calculate_eigen(Q2)\n",
    "print(f\"Eigen Values (Sorted) :\", eigenvalues_sort)\n",
    "print(f\"Eigen Vectors (Sorted) :\", eigenvectors_sort)"
   ]
  },
  {
   "cell_type": "code",
   "execution_count": 42,
   "id": "d53715de-5718-4688-9acd-fe802da395ba",
   "metadata": {},
   "outputs": [
    {
     "name": "stdout",
     "output_type": "stream",
     "text": [
      "Eigen Values (Sorted) : [ 9.84837399  3.68599053 -2.53436452]\n",
      "Eigen Vectors (Sorted) : [[-0.65457471  0.24809842  0.59624933]\n",
      " [-0.50287543 -0.90472019  0.05434002]\n",
      " [-0.56448937  0.34630702 -0.80095811]]\n"
     ]
    }
   ],
   "source": [
    "eigenvalues_sort, eigenvectors_sort = calculate_eigen(Q3)\n",
    "print(f\"Eigen Values (Sorted) :\", eigenvalues_sort)\n",
    "print(f\"Eigen Vectors (Sorted) :\", eigenvectors_sort)"
   ]
  },
  {
   "cell_type": "code",
   "execution_count": 45,
   "id": "fcfb9b28-aed6-40e6-af49-14afa3bf11c1",
   "metadata": {},
   "outputs": [
    {
     "name": "stdout",
     "output_type": "stream",
     "text": [
      "Singular Values (analogous to sorted Eigenvalues): [[-0.63120267  0.20462184 -0.74813975]\n",
      " [-0.53521859 -0.81302618  0.22919313]\n",
      " [-0.56135928  0.54508562  0.62270171]]\n",
      "Singular Vectors (analogous to sorted Eigenvectors):\n",
      " [10.12198556  4.65831859  2.41774198]\n"
     ]
    }
   ],
   "source": [
    "def calculate_svd(matrix):\n",
    "    U,s,V = np.linalg.svd(matrix)\n",
    "    return U,s\n",
    "\n",
    "Singular_values, Singular_vectors = calculate_svd(Q1)\n",
    "\n",
    "print(\"Singular Values (analogous to sorted Eigenvalues):\",Singular_values)\n",
    "print(\"Singular Vectors (analogous to sorted Eigenvectors):\\n\",Singular_vectors)"
   ]
  },
  {
   "cell_type": "code",
   "execution_count": 50,
   "id": "bd95f33f-9637-4e4c-91ee-c4ab41e16969",
   "metadata": {},
   "outputs": [
    {
     "name": "stdout",
     "output_type": "stream",
     "text": [
      "3\n",
      "SVD Eigen Values : [[-0.63120267  0.20462184 -0.74813975]\n",
      " [-0.53521859 -0.81302618  0.22919313]\n",
      " [-0.56135928  0.54508562  0.62270171]]\n",
      "SVD Eigen Vectors : [10.12198556  4.65831859  2.41774198]\n"
     ]
    }
   ],
   "source": [
    "U,s,V = np.linalg.svd(Q1)\n",
    "\n",
    "rank = np.sum(s> 1e-10)\n",
    "\n",
    "print(rank)\n",
    "\n",
    "print(\"SVD Eigen Values :\", U)\n",
    "print(\"SVD Eigen Vectors :\", s)\n"
   ]
  },
  {
   "cell_type": "code",
   "execution_count": 52,
   "id": "b0407e2f-c8e1-48cf-95e7-6df2bd8308c6",
   "metadata": {},
   "outputs": [],
   "source": [
    "import pandas as pd\n",
    "import os"
   ]
  },
  {
   "cell_type": "code",
   "execution_count": 53,
   "id": "4443e1dd-90b0-41a8-8081-7a8f39bd1d8a",
   "metadata": {},
   "outputs": [],
   "source": [
    "folder = \"D:\\Tinu Project\\Projects Files Excel\"\n",
    "file = \"Electric Motor.csv\"\n",
    "\n",
    "folder_file = os.path.join(folder,file)\n",
    "df = pd.read_csv(folder_file)"
   ]
  },
  {
   "cell_type": "code",
   "execution_count": 54,
   "id": "03d78d30-19f3-4c6b-9224-c9b78bcdb351",
   "metadata": {},
   "outputs": [
    {
     "data": {
      "text/html": [
       "<div>\n",
       "<style scoped>\n",
       "    .dataframe tbody tr th:only-of-type {\n",
       "        vertical-align: middle;\n",
       "    }\n",
       "\n",
       "    .dataframe tbody tr th {\n",
       "        vertical-align: top;\n",
       "    }\n",
       "\n",
       "    .dataframe thead th {\n",
       "        text-align: right;\n",
       "    }\n",
       "</style>\n",
       "<table border=\"1\" class=\"dataframe\">\n",
       "  <thead>\n",
       "    <tr style=\"text-align: right;\">\n",
       "      <th></th>\n",
       "      <th>u_q</th>\n",
       "      <th>coolant</th>\n",
       "      <th>stator_winding</th>\n",
       "      <th>u_d</th>\n",
       "      <th>stator_tooth</th>\n",
       "      <th>motor_speed</th>\n",
       "      <th>i_d</th>\n",
       "      <th>i_q</th>\n",
       "      <th>pm</th>\n",
       "      <th>stator_yoke</th>\n",
       "      <th>ambient</th>\n",
       "      <th>torque</th>\n",
       "      <th>profile_id</th>\n",
       "    </tr>\n",
       "  </thead>\n",
       "  <tbody>\n",
       "    <tr>\n",
       "      <th>0</th>\n",
       "      <td>-0.450682</td>\n",
       "      <td>18.805172</td>\n",
       "      <td>19.086670</td>\n",
       "      <td>-0.350055</td>\n",
       "      <td>18.293219</td>\n",
       "      <td>0.002866</td>\n",
       "      <td>0.004419</td>\n",
       "      <td>0.000328</td>\n",
       "      <td>24.554214</td>\n",
       "      <td>18.316547</td>\n",
       "      <td>19.850691</td>\n",
       "      <td>0.187101</td>\n",
       "      <td>17</td>\n",
       "    </tr>\n",
       "    <tr>\n",
       "      <th>1</th>\n",
       "      <td>-0.325737</td>\n",
       "      <td>18.818571</td>\n",
       "      <td>19.092390</td>\n",
       "      <td>-0.305803</td>\n",
       "      <td>18.294807</td>\n",
       "      <td>0.000257</td>\n",
       "      <td>0.000606</td>\n",
       "      <td>-0.000785</td>\n",
       "      <td>24.538078</td>\n",
       "      <td>18.314955</td>\n",
       "      <td>19.850672</td>\n",
       "      <td>0.245417</td>\n",
       "      <td>17</td>\n",
       "    </tr>\n",
       "    <tr>\n",
       "      <th>2</th>\n",
       "      <td>-0.440864</td>\n",
       "      <td>18.828770</td>\n",
       "      <td>19.089380</td>\n",
       "      <td>-0.372503</td>\n",
       "      <td>18.294094</td>\n",
       "      <td>0.002355</td>\n",
       "      <td>0.001290</td>\n",
       "      <td>0.000386</td>\n",
       "      <td>24.544693</td>\n",
       "      <td>18.326307</td>\n",
       "      <td>19.850657</td>\n",
       "      <td>0.176615</td>\n",
       "      <td>17</td>\n",
       "    </tr>\n",
       "    <tr>\n",
       "      <th>3</th>\n",
       "      <td>-0.327026</td>\n",
       "      <td>18.835567</td>\n",
       "      <td>19.083031</td>\n",
       "      <td>-0.316199</td>\n",
       "      <td>18.292542</td>\n",
       "      <td>0.006105</td>\n",
       "      <td>0.000026</td>\n",
       "      <td>0.002046</td>\n",
       "      <td>24.554018</td>\n",
       "      <td>18.330833</td>\n",
       "      <td>19.850647</td>\n",
       "      <td>0.238303</td>\n",
       "      <td>17</td>\n",
       "    </tr>\n",
       "    <tr>\n",
       "      <th>4</th>\n",
       "      <td>-0.471150</td>\n",
       "      <td>18.857033</td>\n",
       "      <td>19.082525</td>\n",
       "      <td>-0.332272</td>\n",
       "      <td>18.291428</td>\n",
       "      <td>0.003133</td>\n",
       "      <td>-0.064317</td>\n",
       "      <td>0.037184</td>\n",
       "      <td>24.565397</td>\n",
       "      <td>18.326662</td>\n",
       "      <td>19.850639</td>\n",
       "      <td>0.208197</td>\n",
       "      <td>17</td>\n",
       "    </tr>\n",
       "  </tbody>\n",
       "</table>\n",
       "</div>"
      ],
      "text/plain": [
       "        u_q    coolant  stator_winding       u_d  stator_tooth  motor_speed  \\\n",
       "0 -0.450682  18.805172       19.086670 -0.350055     18.293219     0.002866   \n",
       "1 -0.325737  18.818571       19.092390 -0.305803     18.294807     0.000257   \n",
       "2 -0.440864  18.828770       19.089380 -0.372503     18.294094     0.002355   \n",
       "3 -0.327026  18.835567       19.083031 -0.316199     18.292542     0.006105   \n",
       "4 -0.471150  18.857033       19.082525 -0.332272     18.291428     0.003133   \n",
       "\n",
       "        i_d       i_q         pm  stator_yoke    ambient    torque  profile_id  \n",
       "0  0.004419  0.000328  24.554214    18.316547  19.850691  0.187101          17  \n",
       "1  0.000606 -0.000785  24.538078    18.314955  19.850672  0.245417          17  \n",
       "2  0.001290  0.000386  24.544693    18.326307  19.850657  0.176615          17  \n",
       "3  0.000026  0.002046  24.554018    18.330833  19.850647  0.238303          17  \n",
       "4 -0.064317  0.037184  24.565397    18.326662  19.850639  0.208197          17  "
      ]
     },
     "execution_count": 54,
     "metadata": {},
     "output_type": "execute_result"
    }
   ],
   "source": [
    "df.head()"
   ]
  },
  {
   "cell_type": "code",
   "execution_count": 57,
   "id": "089554fc-6aec-421e-863d-98f5951af688",
   "metadata": {},
   "outputs": [
    {
     "name": "stdout",
     "output_type": "stream",
     "text": [
      "Sorted Eigenvalues:\n",
      " [3.46205318e+06 1.74111778e+04 2.99103853e+03 1.61894320e+03\n",
      " 1.23531639e+03 3.49533071e+02 2.68444021e+02 1.55346091e+02\n",
      " 5.76891805e+01 1.26502191e+01 3.07794712e+00 1.89976046e+00\n",
      " 3.24037621e-01]\n",
      "\n",
      "Sorted Eigenvectors:\n",
      " [[ 1.62230466e-02  5.09313799e-02  4.45243212e-01 -3.57772825e-01\n",
      "   1.29442605e-01 -2.00864962e-01  7.67295881e-01  7.26138424e-02\n",
      "   1.38017665e-01 -1.17513463e-02  2.06691292e-02 -1.28114672e-02\n",
      "  -1.92848075e-03]\n",
      " [ 1.39947573e-04  4.44844468e-02 -1.53701621e-01 -4.12416078e-01\n",
      "  -3.06163640e-02  8.67259735e-02 -7.17692333e-02 -7.33762342e-01\n",
      "   2.88204990e-01 -3.30958753e-02  3.91734826e-01  1.15122896e-02\n",
      "  -1.20610906e-01]\n",
      " [ 6.66324302e-03 -2.82329843e-02 -3.77700185e-01 -3.13943725e-01\n",
      "   4.57169281e-02 -3.42663107e-01  2.71124885e-02  2.56645042e-01\n",
      "  -4.80562228e-01  5.99433004e-03  5.20398028e-01  6.82839879e-02\n",
      "   2.55690835e-01]\n",
      " [-9.79070830e-03  3.90708792e-01  7.20086758e-02 -5.41049075e-02\n",
      "   8.78720702e-01  1.59288801e-02 -2.46587873e-01  4.06853644e-02\n",
      "   2.83428975e-02 -5.86140043e-02 -3.90954944e-03 -1.58810882e-03\n",
      "  -4.09677937e-03]\n",
      " [ 4.91871261e-03 -1.54575717e-03 -2.82037398e-01 -3.36043742e-01\n",
      "   1.61366264e-03 -2.32726108e-01 -1.92994181e-02  6.57132180e-02\n",
      "  -1.81340191e-01  3.17740666e-02 -3.87280583e-01 -3.01534776e-02\n",
      "  -7.50905352e-01]\n",
      " [ 9.99464546e-01  3.74851276e-03  1.50775921e-02  7.09399972e-05\n",
      "   8.25680922e-04  8.19075530e-03 -2.67696867e-02 -1.82881208e-03\n",
      "  -6.37845086e-03 -6.64448130e-04 -1.26114527e-04  4.50256854e-04\n",
      "   3.94743434e-04]\n",
      " [-2.44621735e-02  1.64342923e-01  6.37434598e-01 -4.16805859e-01\n",
      "  -2.92770790e-01 -1.11130101e-02 -5.02604952e-01  1.04170815e-01\n",
      "  -2.02265883e-01 -3.80554305e-02  2.25553583e-02  1.13748383e-02\n",
      "   6.60669148e-03]\n",
      " [-3.40188473e-03 -6.88257500e-01  1.48703449e-01 -1.43610954e-01\n",
      "   2.83143371e-01  4.92315399e-02 -1.42581614e-01  1.48340751e-02\n",
      "   4.13909212e-02  6.14853375e-01  2.17304505e-02 -1.22542379e-02\n",
      "   5.42948012e-03]\n",
      " [ 4.68904417e-03  1.06826710e-02 -1.91037373e-01 -2.05458501e-01\n",
      "  -1.04540986e-01 -1.53094477e-01 -1.96787179e-01  5.08894338e-01\n",
      "   7.57130413e-01 -4.31911923e-02  9.96648494e-02 -5.76935416e-02\n",
      "   2.67670154e-02]\n",
      " [ 2.75082507e-03  1.59354561e-02 -2.21053168e-01 -3.59876124e-01\n",
      "  -8.91679036e-03 -1.22209848e-01 -3.51501232e-02 -1.99266482e-01\n",
      "   4.48792107e-03  1.36438336e-02 -6.37700949e-01 -5.69808230e-02\n",
      "   5.96062194e-01]\n",
      " [ 1.22634552e-04  4.62649345e-03 -8.31329929e-03 -2.22969797e-02\n",
      "  -2.57858577e-03  1.11358905e-02  2.21565541e-03  1.52804803e-02\n",
      "   7.17579411e-02  2.03197663e-02 -8.21203310e-02  9.93341768e-01\n",
      "  -3.08905435e-03]\n",
      " [-1.81022201e-03 -5.80399659e-01  7.00747559e-02 -8.16556019e-02\n",
      "   1.76055532e-01  4.30431198e-02 -6.57579989e-02  1.04923531e-02\n",
      "  -2.63056110e-02 -7.82447853e-01 -3.11445370e-02  1.67159728e-02\n",
      "  -1.03126671e-02]\n",
      " [-3.83985401e-04  6.32456807e-02 -1.78169136e-01 -3.38020910e-01\n",
      "  -1.29778176e-02  8.58681827e-01  1.62004490e-01  2.72728322e-01\n",
      "  -1.07183003e-01  1.01461722e-02 -3.26895587e-03 -1.63238670e-02\n",
      "   2.58830852e-04]]\n"
     ]
    }
   ],
   "source": [
    "# Calculate the Covariance Matrix :\n",
    "\n",
    "covariance_matrix = np.cov(df.T)\n",
    "\n",
    "em_eigenvalues, em_eigenvectors = np.linalg.eig(covariance_matrix)\n",
    "\n",
    "sort_ind = np.argsort(-em_eigenvalues)\n",
    "sort_eig_val = em_eigenvalues[sort_ind]\n",
    "sort_eig_vect = em_eigenvectors[:,sort_ind]\n",
    "\n",
    "print(\"Sorted Eigenvalues:\\n\", sort_eig_val)\n",
    "print(\"\\nSorted Eigenvectors:\\n\", sort_eig_vect)"
   ]
  },
  {
   "cell_type": "code",
   "execution_count": null,
   "id": "1d36c7bc-ffd4-4e24-a766-7fc04b835152",
   "metadata": {},
   "outputs": [],
   "source": []
  },
  {
   "cell_type": "code",
   "execution_count": null,
   "id": "99128e8e-391d-462b-b046-f2c76d0bb1bc",
   "metadata": {},
   "outputs": [],
   "source": []
  }
 ],
 "metadata": {
  "kernelspec": {
   "display_name": "Python 3 (ipykernel)",
   "language": "python",
   "name": "python3"
  },
  "language_info": {
   "codemirror_mode": {
    "name": "ipython",
    "version": 3
   },
   "file_extension": ".py",
   "mimetype": "text/x-python",
   "name": "python",
   "nbconvert_exporter": "python",
   "pygments_lexer": "ipython3",
   "version": "3.11.7"
  }
 },
 "nbformat": 4,
 "nbformat_minor": 5
}
