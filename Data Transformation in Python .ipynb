{
 "cells": [
  {
   "cell_type": "code",
   "execution_count": 1,
   "id": "c75b2561-6db0-406a-8126-9d32d99eb885",
   "metadata": {},
   "outputs": [],
   "source": [
    "import numpy as np\n",
    "import pandas as pd"
   ]
  },
  {
   "cell_type": "code",
   "execution_count": 2,
   "id": "2b1bca79-1bf2-4a43-8b49-7d55cd8842e9",
   "metadata": {},
   "outputs": [
    {
     "name": "stdout",
     "output_type": "stream",
     "text": [
      "      Name   Age   Salary Department\n",
      "0    Alice  24.0  50000.0         HR\n",
      "1      Bob   NaN  54000.0    Finance\n",
      "2  Charlie  22.0  32000.0         IT\n",
      "3    David  25.0      NaN         HR\n",
      "4      Eve  30.0  40000.0    Finance\n"
     ]
    }
   ],
   "source": [
    "data = {\n",
    "    'Name' : ['Alice', 'Bob', 'Charlie', 'David', 'Eve'],\n",
    "    'Age' : [24,np.nan,22,25,30],\n",
    "    'Salary' : [50000, 54000, 32000, np.nan, 40000],\n",
    "    'Department' : ['HR','Finance','IT','HR','Finance']\n",
    "}\n",
    "\n",
    "df = pd.DataFrame(data)\n",
    "print(df)"
   ]
  },
  {
   "cell_type": "code",
   "execution_count": 3,
   "id": "82401ede-6250-4471-8e69-cf07dac53747",
   "metadata": {},
   "outputs": [
    {
     "data": {
      "text/html": [
       "<div>\n",
       "<style scoped>\n",
       "    .dataframe tbody tr th:only-of-type {\n",
       "        vertical-align: middle;\n",
       "    }\n",
       "\n",
       "    .dataframe tbody tr th {\n",
       "        vertical-align: top;\n",
       "    }\n",
       "\n",
       "    .dataframe thead th {\n",
       "        text-align: right;\n",
       "    }\n",
       "</style>\n",
       "<table border=\"1\" class=\"dataframe\">\n",
       "  <thead>\n",
       "    <tr style=\"text-align: right;\">\n",
       "      <th></th>\n",
       "      <th>Name</th>\n",
       "      <th>Age</th>\n",
       "      <th>Salary</th>\n",
       "      <th>Department</th>\n",
       "    </tr>\n",
       "  </thead>\n",
       "  <tbody>\n",
       "    <tr>\n",
       "      <th>0</th>\n",
       "      <td>Alice</td>\n",
       "      <td>24.0</td>\n",
       "      <td>50000.0</td>\n",
       "      <td>HR</td>\n",
       "    </tr>\n",
       "    <tr>\n",
       "      <th>1</th>\n",
       "      <td>Bob</td>\n",
       "      <td>NaN</td>\n",
       "      <td>54000.0</td>\n",
       "      <td>Finance</td>\n",
       "    </tr>\n",
       "    <tr>\n",
       "      <th>2</th>\n",
       "      <td>Charlie</td>\n",
       "      <td>22.0</td>\n",
       "      <td>32000.0</td>\n",
       "      <td>IT</td>\n",
       "    </tr>\n",
       "    <tr>\n",
       "      <th>3</th>\n",
       "      <td>David</td>\n",
       "      <td>25.0</td>\n",
       "      <td>NaN</td>\n",
       "      <td>HR</td>\n",
       "    </tr>\n",
       "    <tr>\n",
       "      <th>4</th>\n",
       "      <td>Eve</td>\n",
       "      <td>30.0</td>\n",
       "      <td>40000.0</td>\n",
       "      <td>Finance</td>\n",
       "    </tr>\n",
       "  </tbody>\n",
       "</table>\n",
       "</div>"
      ],
      "text/plain": [
       "      Name   Age   Salary Department\n",
       "0    Alice  24.0  50000.0         HR\n",
       "1      Bob   NaN  54000.0    Finance\n",
       "2  Charlie  22.0  32000.0         IT\n",
       "3    David  25.0      NaN         HR\n",
       "4      Eve  30.0  40000.0    Finance"
      ]
     },
     "execution_count": 3,
     "metadata": {},
     "output_type": "execute_result"
    }
   ],
   "source": [
    "df.head()"
   ]
  },
  {
   "cell_type": "code",
   "execution_count": 4,
   "id": "7d21b48a-5a64-487b-98e5-e5073d585d64",
   "metadata": {},
   "outputs": [
    {
     "data": {
      "text/html": [
       "<div>\n",
       "<style scoped>\n",
       "    .dataframe tbody tr th:only-of-type {\n",
       "        vertical-align: middle;\n",
       "    }\n",
       "\n",
       "    .dataframe tbody tr th {\n",
       "        vertical-align: top;\n",
       "    }\n",
       "\n",
       "    .dataframe thead th {\n",
       "        text-align: right;\n",
       "    }\n",
       "</style>\n",
       "<table border=\"1\" class=\"dataframe\">\n",
       "  <thead>\n",
       "    <tr style=\"text-align: right;\">\n",
       "      <th></th>\n",
       "      <th>Age</th>\n",
       "      <th>Salary</th>\n",
       "    </tr>\n",
       "  </thead>\n",
       "  <tbody>\n",
       "    <tr>\n",
       "      <th>count</th>\n",
       "      <td>4.00000</td>\n",
       "      <td>4.000000</td>\n",
       "    </tr>\n",
       "    <tr>\n",
       "      <th>mean</th>\n",
       "      <td>25.25000</td>\n",
       "      <td>44000.000000</td>\n",
       "    </tr>\n",
       "    <tr>\n",
       "      <th>std</th>\n",
       "      <td>3.40343</td>\n",
       "      <td>9933.109617</td>\n",
       "    </tr>\n",
       "    <tr>\n",
       "      <th>min</th>\n",
       "      <td>22.00000</td>\n",
       "      <td>32000.000000</td>\n",
       "    </tr>\n",
       "    <tr>\n",
       "      <th>25%</th>\n",
       "      <td>23.50000</td>\n",
       "      <td>38000.000000</td>\n",
       "    </tr>\n",
       "    <tr>\n",
       "      <th>50%</th>\n",
       "      <td>24.50000</td>\n",
       "      <td>45000.000000</td>\n",
       "    </tr>\n",
       "    <tr>\n",
       "      <th>75%</th>\n",
       "      <td>26.25000</td>\n",
       "      <td>51000.000000</td>\n",
       "    </tr>\n",
       "    <tr>\n",
       "      <th>max</th>\n",
       "      <td>30.00000</td>\n",
       "      <td>54000.000000</td>\n",
       "    </tr>\n",
       "  </tbody>\n",
       "</table>\n",
       "</div>"
      ],
      "text/plain": [
       "            Age        Salary\n",
       "count   4.00000      4.000000\n",
       "mean   25.25000  44000.000000\n",
       "std     3.40343   9933.109617\n",
       "min    22.00000  32000.000000\n",
       "25%    23.50000  38000.000000\n",
       "50%    24.50000  45000.000000\n",
       "75%    26.25000  51000.000000\n",
       "max    30.00000  54000.000000"
      ]
     },
     "execution_count": 4,
     "metadata": {},
     "output_type": "execute_result"
    }
   ],
   "source": [
    "df.describe()"
   ]
  },
  {
   "cell_type": "code",
   "execution_count": 6,
   "id": "7e112615-a83b-4c74-b416-9b00be007664",
   "metadata": {},
   "outputs": [
    {
     "name": "stdout",
     "output_type": "stream",
     "text": [
      "Name          0\n",
      "Age           1\n",
      "Salary        1\n",
      "Department    0\n",
      "dtype: int64\n"
     ]
    }
   ],
   "source": [
    "print(df.isnull().sum())"
   ]
  },
  {
   "cell_type": "code",
   "execution_count": 9,
   "id": "580d1bc7-5483-4f93-b606-e2e8488ccfa5",
   "metadata": {},
   "outputs": [
    {
     "name": "stdout",
     "output_type": "stream",
     "text": [
      "      Name    Age   Salary Department\n",
      "0    Alice  24.00  50000.0         HR\n",
      "1      Bob  25.25  54000.0    Finance\n",
      "2  Charlie  22.00  32000.0         IT\n",
      "3    David  25.00  45000.0         HR\n",
      "4      Eve  30.00  40000.0    Finance\n"
     ]
    },
    {
     "name": "stderr",
     "output_type": "stream",
     "text": [
      "C:\\Users\\mohit\\AppData\\Local\\Temp\\ipykernel_3668\\3586888557.py:2: FutureWarning: A value is trying to be set on a copy of a DataFrame or Series through chained assignment using an inplace method.\n",
      "The behavior will change in pandas 3.0. This inplace method will never work because the intermediate object on which we are setting values always behaves as a copy.\n",
      "\n",
      "For example, when doing 'df[col].method(value, inplace=True)', try using 'df.method({col: value}, inplace=True)' or df[col] = df[col].method(value) instead, to perform the operation inplace on the original object.\n",
      "\n",
      "\n",
      "  df['Age'].fillna(df['Age'].mean(),inplace=True)\n",
      "C:\\Users\\mohit\\AppData\\Local\\Temp\\ipykernel_3668\\3586888557.py:5: FutureWarning: A value is trying to be set on a copy of a DataFrame or Series through chained assignment using an inplace method.\n",
      "The behavior will change in pandas 3.0. This inplace method will never work because the intermediate object on which we are setting values always behaves as a copy.\n",
      "\n",
      "For example, when doing 'df[col].method(value, inplace=True)', try using 'df.method({col: value}, inplace=True)' or df[col] = df[col].method(value) instead, to perform the operation inplace on the original object.\n",
      "\n",
      "\n",
      "  df['Salary'].fillna(df['Salary'].median(),inplace=True)\n"
     ]
    }
   ],
   "source": [
    "# Filling Missing Age Value with the Mean()\n",
    "df['Age'].fillna(df['Age'].mean(),inplace=True)\n",
    "\n",
    "#Filling Missing Salary Value with the Median()\n",
    "df['Salary'].fillna(df['Salary'].median(),inplace=True)\n",
    "\n",
    "print(df)"
   ]
  },
  {
   "cell_type": "code",
   "execution_count": 10,
   "id": "9876b34d-fb16-4b2e-a3ce-ee6cbdeb74ce",
   "metadata": {},
   "outputs": [
    {
     "name": "stdout",
     "output_type": "stream",
     "text": [
      "      Name    Age    Salary Department\n",
      "0    Alice  24.00  0.818182         HR\n",
      "1      Bob  25.25  1.000000    Finance\n",
      "2  Charlie  22.00  0.000000         IT\n",
      "3    David  25.00  0.590909         HR\n",
      "4      Eve  30.00  0.363636    Finance\n"
     ]
    }
   ],
   "source": [
    "# Min-Max Normalization Of Salary:\n",
    "\n",
    "df['Salary'] = (df['Salary']-df['Salary'].min())/(df['Salary'].max()-df['Salary'].min())\n",
    "print(df)\n"
   ]
  },
  {
   "cell_type": "code",
   "execution_count": 12,
   "id": "7e821de7-eff7-4d4c-99fa-5b5461f19c3e",
   "metadata": {},
   "outputs": [
    {
     "name": "stdout",
     "output_type": "stream",
     "text": [
      "      Name    Age    Salary  Department_Finance  Department_HR  Department_IT\n",
      "0    Alice  24.00  0.818182               False           True          False\n",
      "1      Bob  25.25  1.000000                True          False          False\n",
      "2  Charlie  22.00  0.000000               False          False           True\n",
      "3    David  25.00  0.590909               False           True          False\n",
      "4      Eve  30.00  0.363636                True          False          False\n"
     ]
    }
   ],
   "source": [
    "# One-Hot encoding for the Department Column.\n",
    "df = pd.get_dummies(df,columns=['Department'])\n",
    "\n",
    "print(df)"
   ]
  },
  {
   "cell_type": "code",
   "execution_count": 14,
   "id": "8acd4228-a4a0-481d-afdb-924641fbb2d3",
   "metadata": {},
   "outputs": [
    {
     "name": "stdout",
     "output_type": "stream",
     "text": [
      "      Name    Age    Salary  Department_Finance  Department_HR  Department_IT  \\\n",
      "0    Alice  24.00  0.818182               False           True          False   \n",
      "1      Bob  25.25  1.000000                True          False          False   \n",
      "2  Charlie  22.00  0.000000               False          False           True   \n",
      "3    David  25.00  0.590909               False           True          False   \n",
      "4      Eve  30.00  0.363636                True          False          False   \n",
      "\n",
      "  Experience_level  \n",
      "0           Junior  \n",
      "1           Senior  \n",
      "2           Junior  \n",
      "3           Junior  \n",
      "4           Senior  \n"
     ]
    }
   ],
   "source": [
    "# Creating A new feature : Experience Level\n",
    "\n",
    "conditions = [\n",
    "    (df['Age']<=25),\n",
    "    (df['Age']>25)\n",
    "]\n",
    "\n",
    "choice = ['Junior','Senior']\n",
    "df['Experience_level'] = np.select(conditions,choice,default='Unknown')\n",
    "print(df)"
   ]
  },
  {
   "cell_type": "code",
   "execution_count": 15,
   "id": "93ba1f27-d3ce-4a6d-8280-8827aff554ee",
   "metadata": {},
   "outputs": [
    {
     "name": "stdout",
     "output_type": "stream",
     "text": [
      "      Name    Age    Salary  Department_Finance  Department_HR  Department_IT  \\\n",
      "0    Alice  24.00  0.818182               False           True          False   \n",
      "1      Bob  25.25  1.000000                True          False          False   \n",
      "2  Charlie  22.00  0.000000               False          False           True   \n",
      "3    David  25.00  0.590909               False           True          False   \n",
      "4      Eve  30.00  0.363636                True          False          False   \n",
      "\n",
      "  Experience_level Age_group  \n",
      "0           Junior     20-25  \n",
      "1           Senior     25-30  \n",
      "2           Junior     20-25  \n",
      "3           Junior     20-25  \n",
      "4           Senior     25-30  \n"
     ]
    }
   ],
   "source": [
    "# Binnings Age into categories:\n",
    "bins = [20,25,30,35]\n",
    "labels = ['20-25','25-30','30-35']\n",
    "df['Age_group'] = pd.cut(df['Age'],bins=bins,labels=labels)\n",
    "print(df)"
   ]
  },
  {
   "cell_type": "code",
   "execution_count": 17,
   "id": "84cc4e99-ab03-43cd-9da1-9673f3f999bf",
   "metadata": {},
   "outputs": [
    {
     "name": "stdout",
     "output_type": "stream",
     "text": [
      "                    Salary\n",
      "Experience_level          \n",
      "Junior            0.469697\n",
      "Senior            0.681818\n"
     ]
    }
   ],
   "source": [
    "# Group by Experience Level:\n",
    "\n",
    "agg_df = df.groupby('Experience_level').agg({'Salary':'mean'})\n",
    "print(agg_df)"
   ]
  },
  {
   "cell_type": "code",
   "execution_count": 18,
   "id": "4d455444-bc96-45eb-9f48-e6bef6163bcb",
   "metadata": {},
   "outputs": [
    {
     "name": "stdout",
     "output_type": "stream",
     "text": [
      "      Name    Age    Salary  Department_Finance  Department_HR  Department_IT  \\\n",
      "0    Alice  24.00  0.818182               False           True          False   \n",
      "1      Bob  25.25  1.000000                True          False          False   \n",
      "2  Charlie  22.00  0.000000               False          False           True   \n",
      "3    David  25.00  0.590909               False           True          False   \n",
      "4      Eve  30.00  0.363636                True          False          False   \n",
      "\n",
      "  Experience_level Age_group  Salary_Rank  \n",
      "0           Junior     20-25          4.0  \n",
      "1           Senior     25-30          5.0  \n",
      "2           Junior     20-25          1.0  \n",
      "3           Junior     20-25          3.0  \n",
      "4           Senior     25-30          2.0  \n"
     ]
    }
   ],
   "source": [
    "# Apply a custom function to create a salary rank\n",
    "\n",
    "df['Salary_Rank'] = df['Salary'].rank(method='dense')\n",
    "print(df)"
   ]
  },
  {
   "cell_type": "code",
   "execution_count": 19,
   "id": "f29ba787-293e-45fe-a059-09540a83a9cf",
   "metadata": {},
   "outputs": [],
   "source": [
    "df.to_csv('tranformed_data.csv',index=False)"
   ]
  },
  {
   "cell_type": "code",
   "execution_count": null,
   "id": "39c3a195-0a4e-4c0a-b405-083a7122e193",
   "metadata": {},
   "outputs": [],
   "source": []
  }
 ],
 "metadata": {
  "kernelspec": {
   "display_name": "Python 3 (ipykernel)",
   "language": "python",
   "name": "python3"
  },
  "language_info": {
   "codemirror_mode": {
    "name": "ipython",
    "version": 3
   },
   "file_extension": ".py",
   "mimetype": "text/x-python",
   "name": "python",
   "nbconvert_exporter": "python",
   "pygments_lexer": "ipython3",
   "version": "3.11.7"
  }
 },
 "nbformat": 4,
 "nbformat_minor": 5
}
