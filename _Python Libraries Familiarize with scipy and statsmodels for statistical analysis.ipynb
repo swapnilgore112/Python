{
 "cells": [
  {
   "cell_type": "code",
   "execution_count": 1,
   "id": "029bd90f-4e27-4757-aa03-b740d7e304a6",
   "metadata": {},
   "outputs": [],
   "source": [
    "import numpy as np\n",
    "import pandas as pd\n",
    "import scipy.stats as stats\n",
    "import statsmodels.api as sm\n",
    "from statsmodels.formula.api import ols"
   ]
  },
  {
   "cell_type": "code",
   "execution_count": 2,
   "id": "12a5e67d-d249-4216-9d99-892b107a5690",
   "metadata": {},
   "outputs": [],
   "source": [
    "data_grp1 = [85, 86, 88, 75, 78, 94, 98, 79, 71, 80]\n",
    "data_grp2 = [72, 67, 79, 80, 83, 75, 77, 81, 68, 85]\n",
    "\n",
    "data = pd.DataFrame({\n",
    "    'Hours_studied':[1, 2, 3, 4, 5, 6, 7, 8, 9, 10],\n",
    "    'Scors':[35, 50, 55, 65, 70, 80, 85, 90, 95, 100]\n",
    "})\n"
   ]
  },
  {
   "cell_type": "code",
   "execution_count": 4,
   "id": "4894ef1f-1c38-4f89-a5c7-dedd2bc6b81a",
   "metadata": {},
   "outputs": [
    {
     "name": "stdout",
     "output_type": "stream",
     "text": [
      "2.031962283235235\n",
      "0.05718525096328951\n"
     ]
    }
   ],
   "source": [
    "# independent t-test:\n",
    "t_statistic,p_value = stats.ttest_ind(data_grp1,data_grp2)\n",
    "print(t_statistic)\n",
    "print(p_value)\n"
   ]
  },
  {
   "cell_type": "code",
   "execution_count": 5,
   "id": "271e6315-3d25-4de3-9322-2e2f3964e287",
   "metadata": {},
   "outputs": [
    {
     "name": "stdout",
     "output_type": "stream",
     "text": [
      "                            OLS Regression Results                            \n",
      "==============================================================================\n",
      "Dep. Variable:                  Scors   R-squared:                       0.978\n",
      "Model:                            OLS   Adj. R-squared:                  0.975\n",
      "Method:                 Least Squares   F-statistic:                     354.3\n",
      "Date:                Tue, 06 Aug 2024   Prob (F-statistic):           6.56e-08\n",
      "Time:                        11:02:58   Log-Likelihood:                -25.159\n",
      "No. Observations:                  10   AIC:                             54.32\n",
      "Df Residuals:                       8   BIC:                             54.92\n",
      "Df Model:                           1                                         \n",
      "Covariance Type:            nonrobust                                         \n",
      "=================================================================================\n",
      "                    coef    std err          t      P>|t|      [0.025      0.975]\n",
      "---------------------------------------------------------------------------------\n",
      "const            34.3333      2.287     15.010      0.000      29.059      39.608\n",
      "Hours_studied     6.9394      0.369     18.824      0.000       6.089       7.790\n",
      "==============================================================================\n",
      "Omnibus:                        1.871   Durbin-Watson:                   1.185\n",
      "Prob(Omnibus):                  0.392   Jarque-Bera (JB):                0.966\n",
      "Skew:                          -0.739   Prob(JB):                        0.617\n",
      "Kurtosis:                       2.631   Cond. No.                         13.7\n",
      "==============================================================================\n",
      "\n",
      "Notes:\n",
      "[1] Standard Errors assume that the covariance matrix of the errors is correctly specified.\n"
     ]
    },
    {
     "name": "stderr",
     "output_type": "stream",
     "text": [
      "C:\\Users\\mohit\\anaconda3\\Lib\\site-packages\\scipy\\stats\\_stats_py.py:1806: UserWarning: kurtosistest only valid for n>=20 ... continuing anyway, n=10\n",
      "  warnings.warn(\"kurtosistest only valid for n>=20 ... continuing \"\n"
     ]
    }
   ],
   "source": [
    "# performing linear Regression Using \"StatsModels\":\n",
    "\n",
    "X = sm.add_constant(data['Hours_studied'])\n",
    "y= data['Scors']\n",
    "\n",
    "# Fitting regression Model\n",
    "\n",
    "model = sm.OLS(y,X).fit()\n",
    "print(model.summary())"
   ]
  },
  {
   "cell_type": "code",
   "execution_count": null,
   "id": "32992482-35f8-4b5a-b9b6-e9bd3b826169",
   "metadata": {},
   "outputs": [],
   "source": [
    "# ANOVA using Statsmodels\n",
    "\n",
    "df_anova = pd.DataFrame({\n",
    "    'Treatment':np.repeat(['A','B','C'],8),\n",
    "    'Response':[24, 27, 23, 30, 21, 23, 27, 25, 30, 31, 29, 34, 28, 29, 30, 31, 19, 23, 20, 25, 22, 21,\n",
    "24, 26]\n",
    "})\n",
    "\n",
    "model_anova = ols('Response~C(Treatment)',data=df_anova).fit()\n",
    "anova_table = sm/"
   ]
  },
  {
   "cell_type": "code",
   "execution_count": null,
   "id": "4296d28e-f969-4335-b02c-c3bf2818b42f",
   "metadata": {},
   "outputs": [],
   "source": []
  },
  {
   "cell_type": "code",
   "execution_count": null,
   "id": "056ebf6b-f051-491c-b840-fbc89d4a83b4",
   "metadata": {},
   "outputs": [],
   "source": []
  },
  {
   "cell_type": "code",
   "execution_count": null,
   "id": "196b4bcd-d9bd-404d-8367-83e6dc3d2371",
   "metadata": {},
   "outputs": [],
   "source": []
  },
  {
   "cell_type": "code",
   "execution_count": null,
   "id": "e4a23dc1-bb5b-4f03-86f3-c35ece47c09f",
   "metadata": {},
   "outputs": [],
   "source": []
  },
  {
   "cell_type": "code",
   "execution_count": null,
   "id": "10212284-92de-4e32-88fc-38e836ed9f2e",
   "metadata": {},
   "outputs": [],
   "source": []
  }
 ],
 "metadata": {
  "kernelspec": {
   "display_name": "Python 3 (ipykernel)",
   "language": "python",
   "name": "python3"
  },
  "language_info": {
   "codemirror_mode": {
    "name": "ipython",
    "version": 3
   },
   "file_extension": ".py",
   "mimetype": "text/x-python",
   "name": "python",
   "nbconvert_exporter": "python",
   "pygments_lexer": "ipython3",
   "version": "3.11.7"
  }
 },
 "nbformat": 4,
 "nbformat_minor": 5
}
