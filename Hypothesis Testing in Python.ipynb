{
 "cells": [
  {
   "cell_type": "code",
   "execution_count": 2,
   "id": "f1f30a43-fa08-476b-b8ac-3c397f73d887",
   "metadata": {},
   "outputs": [],
   "source": [
    "import numpy as np\n",
    "import pandas as pd\n",
    "from scipy import stats"
   ]
  },
  {
   "cell_type": "code",
   "execution_count": 3,
   "id": "fa61a3f2-a5b5-4860-bb6f-17764cfe4303",
   "metadata": {},
   "outputs": [],
   "source": [
    "data_g1 = [85, 86, 88, 75, 78, 94, 98, 79, 71, 80]\n",
    "data_g2 = [72, 67, 79, 80, 83, 75, 77, 81, 68, 85]"
   ]
  },
  {
   "cell_type": "code",
   "execution_count": 4,
   "id": "c676dba7-234b-4f43-8dd6-f2bd4ee35a5c",
   "metadata": {},
   "outputs": [],
   "source": [
    "data = {'Preference':['like','Dislike'],\n",
    "        'Male':[20,30],\n",
    "        'Female':[25,25]}\n",
    "\n",
    "df = pd.DataFrame(data)"
   ]
  },
  {
   "cell_type": "code",
   "execution_count": 5,
   "id": "72311713-691f-4df7-80d9-09599d9761b0",
   "metadata": {},
   "outputs": [
    {
     "name": "stdout",
     "output_type": "stream",
     "text": [
      "t_statistic: 2.031962283235235\n",
      "P_value: 0.05718525096328951\n"
     ]
    }
   ],
   "source": [
    "# independent t-test:\n",
    "t_statistic,p_value = stats.ttest_ind(data_g1,data_g2)\n",
    "print(\"t_statistic:\",t_statistic)\n",
    "print(\"P_value:\",p_value)"
   ]
  },
  {
   "cell_type": "code",
   "execution_count": 6,
   "id": "ebc4d80c-84af-462c-8a72-6e60b2bb7694",
   "metadata": {},
   "outputs": [
    {
     "name": "stdout",
     "output_type": "stream",
     "text": [
      "Preference  like  Dislike\n",
      "Male          20       30\n",
      "Female        25       25\n"
     ]
    }
   ],
   "source": [
    "contingency_table = df.set_index('Preference').T\n",
    "print(contingency_table)"
   ]
  },
  {
   "cell_type": "code",
   "execution_count": null,
   "id": "dea73fe2-78e1-4668-94e8-31866eae5457",
   "metadata": {},
   "outputs": [],
   "source": [
    "chi2_stat,p_val,dof,ex = stats.chi2_contingency("
   ]
  },
  {
   "cell_type": "code",
   "execution_count": null,
   "id": "0201954c-cadf-470b-8c30-3fd3c8149aac",
   "metadata": {},
   "outputs": [],
   "source": []
  },
  {
   "cell_type": "code",
   "execution_count": null,
   "id": "fc8c64f3-310f-46ba-b73b-c20d8d60fc26",
   "metadata": {},
   "outputs": [],
   "source": []
  }
 ],
 "metadata": {
  "kernelspec": {
   "display_name": "Python 3 (ipykernel)",
   "language": "python",
   "name": "python3"
  },
  "language_info": {
   "codemirror_mode": {
    "name": "ipython",
    "version": 3
   },
   "file_extension": ".py",
   "mimetype": "text/x-python",
   "name": "python",
   "nbconvert_exporter": "python",
   "pygments_lexer": "ipython3",
   "version": "3.11.7"
  }
 },
 "nbformat": 4,
 "nbformat_minor": 5
}
