{
 "cells": [
  {
   "cell_type": "code",
   "execution_count": 2,
   "id": "49f91196-23f5-4882-9e06-07c988e801e9",
   "metadata": {},
   "outputs": [],
   "source": [
    "import requests\n",
    "from bs4 import BeautifulSoup\n",
    "import pandas as pd\n",
    "\n",
    "# List of URLs containing insurance broking company data\n",
    "urls = [\n",
    "    'https://www.marshmclennan.com/',\n",
    "    'https://www.aon.com/en/',\n",
    "    'https://www.ajg.com/',\n",
    "    'https://www.hubinternational.com/',\n",
    "    'https://global.lockton.com/us/en',\n",
    "    'https://www.wtwco.com/en-in',\n",
    "    'https://www.nfp.com/',\n",
    "    'https://www.usi.com/',\n",
    "    'https://www.tysers.com/',\n",
    "    'https://www.mcgriff.com/',\n",
    "    'https://www.assuredpartners.com/',\n",
    "    \n",
    "]\n",
    "\n",
    "company_names = []\n",
    "policy_types = []\n",
    "\n",
    "for url in urls:\n",
    "    \n",
    "    response = requests.get(url)\n",
    "   \n",
    "    soup = BeautifulSoup(response.text, 'html.parser')\n",
    "    \n",
    "    company_names.extend([company.text for company in soup.find_all('div', class_='company-name')])\n",
    "    \n",
    "    policy_types.extend([policy.text for policy in soup.find_all('div', class_='policy-type')])\n",
    "\n",
    "# Create a DataFrame\n",
    "data = {'Company Name': company_names, 'Policy Types': policy_types}\n",
    "df = pd.DataFrame(data)\n",
    "\n",
    "# Save data to Excel\n",
    "df.to_excel('insurance_data.xlsx', index=False)\n"
   ]
  },
  {
   "cell_type": "code",
   "execution_count": null,
   "id": "6ab704ac-cd43-4b60-995e-f13762764443",
   "metadata": {},
   "outputs": [],
   "source": []
  },
  {
   "cell_type": "code",
   "execution_count": null,
   "id": "9e2b46ba-4ea6-40c5-9b86-113f592ae738",
   "metadata": {},
   "outputs": [],
   "source": []
  }
 ],
 "metadata": {
  "kernelspec": {
   "display_name": "Python 3 (ipykernel)",
   "language": "python",
   "name": "python3"
  },
  "language_info": {
   "codemirror_mode": {
    "name": "ipython",
    "version": 3
   },
   "file_extension": ".py",
   "mimetype": "text/x-python",
   "name": "python",
   "nbconvert_exporter": "python",
   "pygments_lexer": "ipython3",
   "version": "3.11.7"
  }
 },
 "nbformat": 4,
 "nbformat_minor": 5
}
