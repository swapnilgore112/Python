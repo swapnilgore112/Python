{
 "cells": [
  {
   "cell_type": "code",
   "execution_count": 1,
   "id": "6eaea945-44af-4a42-af2d-dba4dcd5d27b",
   "metadata": {},
   "outputs": [],
   "source": [
    "import numpy as np\n",
    "import pandas as pd \n",
    "from sklearn.model_selection import train_test_split"
   ]
  },
  {
   "cell_type": "code",
   "execution_count": 2,
   "id": "fa156738-f386-4b77-b6e6-2b27de42b653",
   "metadata": {},
   "outputs": [],
   "source": [
    "np.random.seed(42)\n",
    "data_classification = pd.DataFrame({\n",
    "    'feature1':np.random.randn(100),\n",
    "    'feature2':np.random.randn(100),\n",
    "    'target':np.random.choice([0,1],size=100)\n",
    "})\n"
   ]
  },
  {
   "cell_type": "code",
   "execution_count": 3,
   "id": "3030705e-a7f1-402a-8780-aa61690680e9",
   "metadata": {},
   "outputs": [],
   "source": [
    "data_regression = pd.DataFrame({\n",
    "    'feature1':np.random.randn(100),\n",
    "    'feature2':np.random.randn(100),\n",
    "    'target':np.random.randn(100)*10+5\n",
    "})\n"
   ]
  },
  {
   "cell_type": "code",
   "execution_count": 5,
   "id": "4d1bf536-976d-4315-b2fe-12610d4d3bb1",
   "metadata": {},
   "outputs": [],
   "source": [
    "X_train_class, X_test_class, y_train_class, y_test_class = train_test_split(data_classification[['feature1','feature2']],data_classification['target'],test_size=0.2,random_state=42)\n",
    "\n",
    "X_train_feat,X_test_feat,y_train_feat,y_test_feat = train_test_split(data_regression[['feature1','feature2']],data_regression['target'],test_size=0.2,random_state=42)\n"
   ]
  },
  {
   "cell_type": "code",
   "execution_count": 6,
   "id": "86a6549d-43ee-45de-bf25-22237eade1a6",
   "metadata": {},
   "outputs": [],
   "source": [
    "from sklearn.linear_model import LinearRegression,LogisticRegression"
   ]
  },
  {
   "cell_type": "code",
   "execution_count": 7,
   "id": "0228829a-6d9b-43f3-bc2f-4e4681ef75c4",
   "metadata": {},
   "outputs": [],
   "source": [
    "clf = LogisticRegression()\n",
    "clf.fit(X_train_class,y_train_class)\n",
    "\n",
    "reg = LinearRegression()\n",
    "reg.fit(X_train_feat,y_train_feat)\n",
    "\n",
    "y_pred_clf = clf.predict(X_test_class)\n",
    "\n",
    "y_pred_reg = reg.predict(X_test_feat)\n"
   ]
  },
  {
   "cell_type": "code",
   "execution_count": 9,
   "id": "fff4577f-33e9-444b-9305-af968602e222",
   "metadata": {},
   "outputs": [],
   "source": [
    "from sklearn.metrics import accuracy_score, precision_score,recall_score\n",
    "from sklearn.metrics import mean_squared_error"
   ]
  },
  {
   "cell_type": "code",
   "execution_count": 13,
   "id": "071f1834-2b44-4914-96a6-294541e0969a",
   "metadata": {},
   "outputs": [
    {
     "name": "stdout",
     "output_type": "stream",
     "text": [
      "Accuracy: 0.35\n",
      "Precision: 0.39\n",
      "Recall: 0.78\n"
     ]
    }
   ],
   "source": [
    "accuracy = accuracy_score(y_test_class,y_pred_clf)\n",
    "print(f\"Accuracy: {accuracy:.2f}\")\n",
    "\n",
    "precision = precision_score(y_test_class,y_pred_clf)\n",
    "print(f\"Precision: {precision:.2f}\")\n",
    "\n",
    "recall = recall_score(y_test_class,y_pred_clf)\n",
    "print(f\"Recall: {recall:.2f}\")"
   ]
  },
  {
   "cell_type": "code",
   "execution_count": 14,
   "id": "dcc377da-a3d2-4ca7-8a0f-d346d3e38a69",
   "metadata": {},
   "outputs": [
    {
     "name": "stdout",
     "output_type": "stream",
     "text": [
      "MSE: 0.65\n"
     ]
    }
   ],
   "source": [
    "MSE = mean_squared_error(y_test_class, y_pred_clf)\n",
    "print(f\"MSE: {MSE:.2f}\")"
   ]
  },
  {
   "cell_type": "code",
   "execution_count": 16,
   "id": "55c24447-074e-4bb0-9721-3d70759dcf1e",
   "metadata": {},
   "outputs": [
    {
     "name": "stdout",
     "output_type": "stream",
     "text": [
      "RMSE: 10.81\n"
     ]
    }
   ],
   "source": [
    "RMSE = np.sqrt(mean_squared_error(y_test_feat, y_pred_reg))\n",
    "print(f\"RMSE: {RMSE:.2f}\")\n"
   ]
  },
  {
   "cell_type": "code",
   "execution_count": 18,
   "id": "c513d580-623d-4b33-a1e0-65dd9470837c",
   "metadata": {},
   "outputs": [
    {
     "data": {
      "image/png": "[encoded data removed]",
      "text/plain": [
       "<Figure size 640x480 with 1 Axes>"
      ]
     },
     "metadata": {},
     "output_type": "display_data"
    }
   ],
   "source": [
    "import matplotlib.pyplot as plt\n",
    "plt.scatter(y_test_feat,y_pred_reg)\n",
    "plt.xlabel('Actual Values')\n",
    "plt.ylabel('Predicted Values')\n",
    "plt.title('Actual vs Predicted Values')\n",
    "plt.show()"
   ]
  },
  {
   "cell_type": "code",
   "execution_count": null,
   "id": "19f1643e-437d-4927-b0fa-e0b79c66a682",
   "metadata": {},
   "outputs": [],
   "source": []
  },
  {
   "cell_type": "code",
   "execution_count": null,
   "id": "242a99d8-abf1-4010-9c1b-6876046b1792",
   "metadata": {},
   "outputs": [],
   "source": []
  },
  {
   "cell_type": "code",
   "execution_count": null,
   "id": "e3c61953-32ed-4ffb-97e2-3a49e4418edf",
   "metadata": {},
   "outputs": [],
   "source": []
  },
  {
   "cell_type": "code",
   "execution_count": null,
   "id": "496846b8-bf1c-4c49-a128-408b5e84f0bf",
   "metadata": {},
   "outputs": [],
   "source": []
  }
 ],
 "metadata": {
  "kernelspec": {
   "display_name": "Python 3 (ipykernel)",
   "language": "python",
   "name": "python3"
  },
  "language_info": {
   "codemirror_mode": {
    "name": "ipython",
    "version": 3
   },
   "file_extension": ".py",
   "mimetype": "text/x-python",
   "name": "python",
   "nbconvert_exporter": "python",
   "pygments_lexer": "ipython3",
   "version": "3.11.7"
  }
 },
 "nbformat": 4,
 "nbformat_minor": 5
}
