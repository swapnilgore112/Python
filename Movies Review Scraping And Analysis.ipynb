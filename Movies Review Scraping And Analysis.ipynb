{
 "cells": [
  {
   "cell_type": "code",
   "execution_count": 13,
   "id": "9062fb02-355b-44cd-92bd-985b5aa59f15",
   "metadata": {},
   "outputs": [],
   "source": [
    "from bs4 import BeautifulSoup\n",
    "import requests\n",
    "import re\n",
    "import pandas as pd"
   ]
  },
  {
   "cell_type": "code",
   "execution_count": 32,
   "id": "381c164b-ec99-46a9-a4af-cb1511274ed0",
   "metadata": {},
   "outputs": [],
   "source": [
    "url = 'https://www.imdb.com/chart/top'\n",
    "response = requests.get(url)\n",
    "soup = BeautifulSoup(response.text, \"html.parser\")\n",
    "movies = soup.select('td.titlecolumn')\n",
    "crew = [a.attrs.get('title') for a in soup.select('td.titlecolumn a')]\n",
    "rating = [b.attrs.get('data-value')\n",
    "          for b in soup.select('td.postercolumn span[name=ir]')]\n",
    "list = []\n",
    "\n",
    "for index in range (0, len(movies)):\n",
    "    movies_string = movies[index].get_text()\n",
    "    movies = (' '.join(moviez-string.split()).replace('.',''))\n",
    "    movie_title = movie[len(str(index))+1:-7]\n",
    "    year = re.search('\\((.*?)\\)', movies_string).group(1)\n",
    "    place = movie[:len(str(index))-(len(movie))]\n",
    "    data = {\"place\": place, \n",
    "            \"movie_title\":movie_title, \n",
    "            \"rating\":rating[index], \"year\":year, \n",
    "            \"star_cast\": crew[index], \n",
    "           }\n",
    "    list.append(data)\n",
    "\n",
    "for movie in list:\n",
    "   print(movie['place'], '-', movie['movie_title'], '('+movie['year'] +\n",
    "        ') -', 'Starring:', movie['star_cast'], movie['rating'])\n",
    "\n",
    "df = pd.DataFrame(list)\n",
    "df.to_csv('IMDB_Top_250_Movies.csv',index=False)\n"
   ]
  },
  {
   "cell_type": "code",
   "execution_count": 31,
   "id": "16be81a7-723c-4f06-80cb-d148eccd17f6",
   "metadata": {},
   "outputs": [],
   "source": []
  },
  {
   "cell_type": "code",
   "execution_count": 16,
   "id": "6811a819-4b75-4653-96df-19779d375153",
   "metadata": {},
   "outputs": [],
   "source": [
    "\n"
   ]
  },
  {
   "cell_type": "code",
   "execution_count": 20,
   "id": "52189836-63e3-4925-80d8-ec46dfc8a09a",
   "metadata": {},
   "outputs": [],
   "source": []
  },
  {
   "cell_type": "raw",
   "id": "4447a3d6-03f2-4ac6-99b8-5af5574246db",
   "metadata": {},
   "source": []
  },
  {
   "cell_type": "code",
   "execution_count": 21,
   "id": "71b41172-2e7d-4ba3-9522-e05964d84287",
   "metadata": {},
   "outputs": [],
   "source": []
  },
  {
   "cell_type": "code",
   "execution_count": null,
   "id": "1ac70937-0c35-4efe-8670-4a2fbce49736",
   "metadata": {},
   "outputs": [],
   "source": []
  },
  {
   "cell_type": "code",
   "execution_count": null,
   "id": "8b15ff00-b532-43aa-a28b-671ac40d14b9",
   "metadata": {},
   "outputs": [],
   "source": []
  },
  {
   "cell_type": "code",
   "execution_count": null,
   "id": "62019d8b-e7c8-4862-ab1f-be3d133b2414",
   "metadata": {},
   "outputs": [],
   "source": []
  },
  {
   "cell_type": "code",
   "execution_count": null,
   "id": "a3ad15f0-95ae-49b5-804f-a7e5411d30d8",
   "metadata": {},
   "outputs": [],
   "source": []
  },
  {
   "cell_type": "code",
   "execution_count": null,
   "id": "5e127650-1676-4c3a-ac6a-319b864481c3",
   "metadata": {},
   "outputs": [],
   "source": []
  },
  {
   "cell_type": "code",
   "execution_count": null,
   "id": "e6624c0a-693f-45b3-8f25-a617ff3a612e",
   "metadata": {},
   "outputs": [],
   "source": []
  },
  {
   "cell_type": "code",
   "execution_count": null,
   "id": "aab6ea14-da75-46be-8101-944cd26885c8",
   "metadata": {},
   "outputs": [],
   "source": []
  },
  {
   "cell_type": "code",
   "execution_count": null,
   "id": "6a7bfb8f-da26-486f-b539-36f1614b90d1",
   "metadata": {},
   "outputs": [],
   "source": []
  }
 ],
 "metadata": {
  "kernelspec": {
   "display_name": "Python 3 (ipykernel)",
   "language": "python",
   "name": "python3"
  },
  "language_info": {
   "codemirror_mode": {
    "name": "ipython",
    "version": 3
   },
   "file_extension": ".py",
   "mimetype": "text/x-python",
   "name": "python",
   "nbconvert_exporter": "python",
   "pygments_lexer": "ipython3",
   "version": "3.11.7"
  }
 },
 "nbformat": 4,
 "nbformat_minor": 5
}
