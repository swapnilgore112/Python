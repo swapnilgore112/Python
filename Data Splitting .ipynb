{
 "cells": [
  {
   "cell_type": "code",
   "execution_count": 1,
   "id": "4c235fff-8636-4eaa-a845-78ef4a6ee3ff",
   "metadata": {},
   "outputs": [],
   "source": [
    "import pandas as pd \n",
    "from sklearn.model_selection import train_test_split"
   ]
  },
  {
   "cell_type": "code",
   "execution_count": 2,
   "id": "5df7d463-02b8-4d4f-99f8-887924f57843",
   "metadata": {},
   "outputs": [],
   "source": [
    "df = pd.DataFrame({\n",
    "    'feature1':[1, 2, 3, 4, 5, 6, 7, 8, 9, 10],\n",
    "    'feature2':[10,9,8,7,6,5,4,3,2,1],\n",
    "    'target':[0, 1, 0, 1, 0, 1, 0, 1, 0, 1]\n",
    "})\n"
   ]
  },
  {
   "cell_type": "code",
   "execution_count": 4,
   "id": "1dd5fd85-399b-4b4b-ad63-5d22e8f3977d",
   "metadata": {},
   "outputs": [],
   "source": [
    "X = df[['feature1','feature2']]\n",
    "y = df['target']\n"
   ]
  },
  {
   "cell_type": "code",
   "execution_count": 5,
   "id": "2d00609e-004c-442f-bbad-6de6081d0b8c",
   "metadata": {},
   "outputs": [],
   "source": [
    "X_train, X_test, y_train, y_test = train_test_split(X,y, test_size=0.3, random_state=42)\n"
   ]
  },
  {
   "cell_type": "code",
   "execution_count": 7,
   "id": "02d95e3e-2b18-4c92-ac1a-c808e1277a96",
   "metadata": {},
   "outputs": [
    {
     "name": "stdout",
     "output_type": "stream",
     "text": [
      "Training Set Shape: (7, 2) (7,)\n",
      "Testing Set Shapr: (3, 2) (3,)\n"
     ]
    }
   ],
   "source": [
    "print(f\"Training Set Shape:\", X_train.shape,y_train.shape)\n",
    "print(f\"Testing Set Shapr:\", X_test.shape,y_test.shape)"
   ]
  },
  {
   "cell_type": "code",
   "execution_count": null,
   "id": "cf4b8a1c-029a-4e2d-9ef5-c89d8fce8d3e",
   "metadata": {},
   "outputs": [],
   "source": []
  },
  {
   "cell_type": "code",
   "execution_count": null,
   "id": "372fb649-deb3-409c-b476-3f2836eaf6a9",
   "metadata": {},
   "outputs": [],
   "source": []
  }
 ],
 "metadata": {
  "kernelspec": {
   "display_name": "Python 3 (ipykernel)",
   "language": "python",
   "name": "python3"
  },
  "language_info": {
   "codemirror_mode": {
    "name": "ipython",
    "version": 3
   },
   "file_extension": ".py",
   "mimetype": "text/x-python",
   "name": "python",
   "nbconvert_exporter": "python",
   "pygments_lexer": "ipython3",
   "version": "3.11.7"
  }
 },
 "nbformat": 4,
 "nbformat_minor": 5
}
